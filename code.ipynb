{
 "cells": [
  {
   "cell_type": "code",
   "execution_count": 4,
   "id": "60383315-183a-473e-ab03-eb066eb20dce",
   "metadata": {},
   "outputs": [],
   "source": [
    "import pandas as pd\n",
    "import streamlit as st\n",
    "from keybert import KeyBERT"
   ]
  },
  {
   "cell_type": "code",
   "execution_count": 5,
   "id": "a3b9de69-d4a7-49c5-b251-631126c77757",
   "metadata": {},
   "outputs": [],
   "source": [
    "def load_model():\n",
    "    model = KeyBERT(\"distilbert-base-nli-mean-tokens\")\n",
    "    return model"
   ]
  },
  {
   "cell_type": "code",
   "execution_count": 6,
   "id": "d2e12442-a55a-4e71-82ed-6f40502af1af",
   "metadata": {},
   "outputs": [
    {
     "name": "stderr",
     "output_type": "stream",
     "text": [
      "2023-02-20 23:38:54.321 INFO    sentence_transformers.SentenceTransformer: Load pretrained SentenceTransformer: distilbert-base-nli-mean-tokens\n",
      "2023-02-20 23:38:56.229 INFO    sentence_transformers.SentenceTransformer: Use pytorch device: cpu\n"
     ]
    }
   ],
   "source": [
    "\n",
    "model = load_model()"
   ]
  },
  {
   "cell_type": "code",
   "execution_count": 7,
   "id": "194d13dd-9ebd-4860-b787-a9fbbfc6d26f",
   "metadata": {},
   "outputs": [
    {
     "name": "stderr",
     "output_type": "stream",
     "text": [
      "2023-02-20 23:39:02.205 \n",
      "  \u001b[33m\u001b[1mWarning:\u001b[0m to view this Streamlit app on a browser, run it with the following\n",
      "  command:\n",
      "\n",
      "    streamlit run C:\\Users\\aleky\\AppData\\Local\\Programs\\Python\\Python310\\lib\\site-packages\\ipykernel_launcher.py [ARGUMENTS]\n"
     ]
    }
   ],
   "source": [
    "placeholder = st.empty()\n",
    "text_input = placeholder.text_area(\"Type in some text you want to analyze\", height=300)"
   ]
  },
  {
   "cell_type": "code",
   "execution_count": null,
   "id": "11b8e0c5-733c-4867-b19e-31d4af30a874",
   "metadata": {},
   "outputs": [],
   "source": [
    "sample_text = st.selectbox(\n",
    "    \"Or pick some sample texts\", [f\"sample {i+1}\" for i in range(len(texts))]\n",
    ")"
   ]
  },
  {
   "cell_type": "code",
   "execution_count": null,
   "id": "e525ecdb-d8b3-4ae5-9b4e-4b2407228a52",
   "metadata": {},
   "outputs": [],
   "source": [
    "sample_id = int(sample_text.split(\" \")[-1])\n",
    "text_input = placeholder.text_area(\n",
    "    \"Type in some text you want to analyze\", value=texts[sample_id - 1], height=300\n",
    ")"
   ]
  },
  {
   "cell_type": "code",
   "execution_count": 8,
   "id": "c7085f2a-2dd1-4932-8271-2d94958cdf0a",
   "metadata": {},
   "outputs": [
    {
     "data": {
      "text/plain": [
       "DeltaGenerator(_root_container=1, _provided_cursor=None, _parent=DeltaGenerator(_root_container=0, _provided_cursor=None, _parent=None, _block_type=None, _form_data=None), _block_type=None, _form_data=None)"
      ]
     },
     "execution_count": 8,
     "metadata": {},
     "output_type": "execute_result"
    }
   ],
   "source": [
    "top_n = st.sidebar.slider(\"Select number of keywords to extract\", 5, 20, 10, 1)\n",
    "min_ngram = st.sidebar.number_input(\"Min ngram\", 1, 5, 1, 1)\n",
    "max_ngram = st.sidebar.number_input(\"Max ngram\", min_ngram, 5, 3, step=1)\n",
    "st.sidebar.code(f\"ngram_range = ({min_ngram}, {max_ngram})\")"
   ]
  },
  {
   "cell_type": "code",
   "execution_count": 9,
   "id": "e63a7f5e-02f3-4398-81c5-825e147c443e",
   "metadata": {},
   "outputs": [],
   "source": [
    "params = {\n",
    "    \"docs\": text_input,\n",
    "    \"top_n\": top_n,\n",
    "    \"keyphrase_ngram_range\": (min_ngram, max_ngram),\n",
    "    \"stop_words\": \"english\",\n",
    "}"
   ]
  },
  {
   "cell_type": "code",
   "execution_count": 10,
   "id": "40649f16-7b98-4890-80ec-0fde94893bf7",
   "metadata": {},
   "outputs": [],
   "source": [
    "add_diversity = st.sidebar.checkbox(\"Add diversity to the results\")"
   ]
  },
  {
   "cell_type": "code",
   "execution_count": 11,
   "id": "f1292dd4-31c9-4c21-81b3-75fd2cff931c",
   "metadata": {},
   "outputs": [],
   "source": [
    "if add_diversity:\n",
    "    method = st.sidebar.selectbox(\n",
    "        \"Select a method\", (\"Max Sum Similarity\", \"Maximal Marginal Relevance\")\n",
    "    )\n",
    "    if method == \"Max Sum Similarity\":\n",
    "        nr_candidates = st.sidebar.slider(\"nr_candidates\", 20, 50, 20, 2)\n",
    "        params[\"use_maxsum\"] = True\n",
    "        params[\"nr_candidates\"] = nr_candidates\n",
    "\n",
    "    elif method == \"Maximal Marginal Relevance\":\n",
    "        diversity = st.sidebar.slider(\"diversity\", 0.1, 1.0, 0.6, 0.01)\n",
    "        params[\"use_mmr\"] = True\n",
    "        params[\"diversity\"] = diversity\n",
    "        \n",
    "keywords = model.extract_keywords(**params)"
   ]
  },
  {
   "cell_type": "code",
   "execution_count": 12,
   "id": "db1aac1d-bc6a-4635-8b5a-182ac4e5a7e0",
   "metadata": {},
   "outputs": [],
   "source": [
    "if keywords != []:\n",
    "    st.info(\"Extracted keywords\")\n",
    "    keywords = pd.DataFrame(keywords, columns=[\"keyword\", \"relevance\"])\n",
    "    st.table(keywords)"
   ]
  },
  {
   "cell_type": "code",
   "execution_count": null,
   "id": "17049119-308a-4789-a1a3-3896bf8c2fcc",
   "metadata": {},
   "outputs": [],
   "source": []
  }
 ],
 "metadata": {
  "kernelspec": {
   "display_name": "Python 3 (ipykernel)",
   "language": "python",
   "name": "python3"
  },
  "language_info": {
   "codemirror_mode": {
    "name": "ipython",
    "version": 3
   },
   "file_extension": ".py",
   "mimetype": "text/x-python",
   "name": "python",
   "nbconvert_exporter": "python",
   "pygments_lexer": "ipython3",
   "version": "3.10.4"
  }
 },
 "nbformat": 4,
 "nbformat_minor": 5
}
